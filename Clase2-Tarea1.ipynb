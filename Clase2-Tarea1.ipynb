{
 "cells": [
  {
   "cell_type": "markdown",
   "id": "5ca1e636",
   "metadata": {},
   "source": [
    "## Clase para análisis de estadísticas"
   ]
  },
  {
   "cell_type": "code",
   "execution_count": 1,
   "id": "596466fa",
   "metadata": {},
   "outputs": [
    {
     "name": "stdout",
     "output_type": "stream",
     "text": [
      "Variables disponibles: ['Id', 'SepalLengthCm', 'SepalWidthCm', 'PetalLengthCm', 'PetalWidthCm', 'Species']\n"
     ]
    },
    {
     "data": {
      "image/png": "[encoded data removed]",
      "text/plain": [
       "<Figure size 432x288 with 1 Axes>"
      ]
     },
     "metadata": {
      "needs_background": "light"
     },
     "output_type": "display_data"
    },
    {
     "name": "stdout",
     "output_type": "stream",
     "text": [
      "Estadísticas para SepalLengthCm:\n",
      " {'Media': 5.843333333333335, 'Mediana': 5.8, 'Desviación Estándar': 0.8280661279778629, 'Percentil 25': 5.1, 'Percentil 50': 5.8, 'Percentil 75': 6.4}\n"
     ]
    }
   ],
   "source": [
    "import pandas as pd\n",
    "import matplotlib.pyplot as plt\n",
    "\n",
    "class DataStatistics:\n",
    "    def __init__(self, filename):\n",
    "        self.data = pd.read_csv(filename)\n",
    "\n",
    "    def get_variable_names(self):\n",
    "        return self.data.columns.tolist()\n",
    "\n",
    "    def calculate_basic_stats(self, variable_name):\n",
    "        if variable_name not in self.data.columns:\n",
    "            return \"Variable not found\"\n",
    "        \n",
    "        variable_data = self.data[variable_name]\n",
    "        stats = {\n",
    "            \"Media\": variable_data.mean(),\n",
    "            \"Mediana\": variable_data.median(),\n",
    "            \"Desviación Estándar\": variable_data.std(),\n",
    "            \"Percentil 25\": variable_data.quantile(0.25),\n",
    "            \"Percentil 50\": variable_data.quantile(0.50),\n",
    "            \"Percentil 75\": variable_data.quantile(0.75)\n",
    "        }\n",
    "\n",
    "        plt.hist(variable_data, bins=10, alpha=0.5, color='b', edgecolor='black')\n",
    "        plt.xlabel(variable_name)\n",
    "        plt.ylabel(\"Frecuencia\")\n",
    "        plt.title(f\"Histograma de {variable_name}\")\n",
    "        plt.show()\n",
    "\n",
    "        return stats\n",
    "\n",
    "# Prueba de la clase\n",
    "stats_obj = DataStatistics(\"Iris.csv\")\n",
    "\n",
    "print(\"Variables disponibles:\", stats_obj.get_variable_names())\n",
    "variable_name = \"SepalLengthCm\"  # Variable que se quiere analizar\n",
    "variable_stats = stats_obj.calculate_basic_stats(variable_name)\n",
    "print(f\"Estadísticas para {variable_name}:\\n\", variable_stats)\n"
   ]
  }
 ],
 "metadata": {
  "kernelspec": {
   "display_name": "Python 3 (ipykernel)",
   "language": "python",
   "name": "python3"
  },
  "language_info": {
   "codemirror_mode": {
    "name": "ipython",
    "version": 3
   },
   "file_extension": ".py",
   "mimetype": "text/x-python",
   "name": "python",
   "nbconvert_exporter": "python",
   "pygments_lexer": "ipython3",
   "version": "3.9.12"
  }
 },
 "nbformat": 4,
 "nbformat_minor": 5
}
